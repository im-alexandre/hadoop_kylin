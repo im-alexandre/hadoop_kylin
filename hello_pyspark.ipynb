{
 "cells": [
  {
   "cell_type": "code",
   "execution_count": 1,
   "metadata": {},
   "outputs": [],
   "source": [
    "from pyspark.sql import SparkSession\n",
    "\n",
    "# Build the SparkSession\n",
    "spark = SparkSession.builder \\\n",
    "   .master(\"local\") \\\n",
    "   .appName(\"Linear Regression Model\") \\\n",
    "   .config(\"spark.executor.memory\", \"1gb\") \\\n",
    "   .getOrCreate()\n",
    "   "
   ]
  },
  {
   "cell_type": "code",
   "execution_count": 2,
   "metadata": {},
   "outputs": [],
   "source": [
    "rdd = spark.read.csv('datasets/diabetes.csv')"
   ]
  },
  {
   "cell_type": "code",
   "execution_count": 3,
   "metadata": {},
   "outputs": [],
   "source": [
    "import pandas as pd"
   ]
  },
  {
   "cell_type": "code",
   "execution_count": 4,
   "metadata": {},
   "outputs": [],
   "source": [
    "import pandas as pd\n",
    "import numpy as np\n",
    "import matplotlib.pyplot as plt\n",
    "from sklearn.model_selection import train_test_split\n",
    "from sklearn.model_selection import KFold\n",
    "from sklearn.model_selection import cross_val_score\n",
    "from sklearn.model_selection import GridSearchCV # para o grid search\n",
    "from sklearn.metrics import classification_report\n",
    "from sklearn.metrics import confusion_matrix\n",
    "from sklearn.metrics import accuracy_score\n",
    "from sklearn.preprocessing import StandardScaler # para padronização\n",
    "from sklearn.preprocessing import MinMaxScaler # para normalização\n",
    "from sklearn.tree import DecisionTreeClassifier\n",
    "from sklearn.neighbors import KNeighborsClassifier\n",
    "from sklearn.naive_bayes import GaussianNB\n",
    "from sklearn.linear_model import LogisticRegression\n",
    "from sklearn.svm import SVC\n",
    "from sklearn.pipeline import Pipeline # para o pipeline"
   ]
  },
  {
   "cell_type": "code",
   "execution_count": 5,
   "metadata": {},
   "outputs": [],
   "source": [
    "dataset = pd.DataFrame(rdd.collect(), columns=['preg', 'plas', 'pres', 'skin', 'test', 'mass', 'pedi', 'age', 'class'])"
   ]
  },
  {
   "cell_type": "code",
   "execution_count": 6,
   "metadata": {},
   "outputs": [
    {
     "data": {
      "text/html": [
       "<div>\n",
       "<style scoped>\n",
       "    .dataframe tbody tr th:only-of-type {\n",
       "        vertical-align: middle;\n",
       "    }\n",
       "\n",
       "    .dataframe tbody tr th {\n",
       "        vertical-align: top;\n",
       "    }\n",
       "\n",
       "    .dataframe thead th {\n",
       "        text-align: right;\n",
       "    }\n",
       "</style>\n",
       "<table border=\"1\" class=\"dataframe\">\n",
       "  <thead>\n",
       "    <tr style=\"text-align: right;\">\n",
       "      <th></th>\n",
       "      <th>preg</th>\n",
       "      <th>plas</th>\n",
       "      <th>pres</th>\n",
       "      <th>skin</th>\n",
       "      <th>test</th>\n",
       "      <th>mass</th>\n",
       "      <th>pedi</th>\n",
       "      <th>age</th>\n",
       "      <th>class</th>\n",
       "    </tr>\n",
       "  </thead>\n",
       "  <tbody>\n",
       "    <tr>\n",
       "      <th>0</th>\n",
       "      <td>6</td>\n",
       "      <td>148</td>\n",
       "      <td>72</td>\n",
       "      <td>35</td>\n",
       "      <td>0</td>\n",
       "      <td>33.6</td>\n",
       "      <td>0.627</td>\n",
       "      <td>50</td>\n",
       "      <td>1</td>\n",
       "    </tr>\n",
       "    <tr>\n",
       "      <th>1</th>\n",
       "      <td>1</td>\n",
       "      <td>85</td>\n",
       "      <td>66</td>\n",
       "      <td>29</td>\n",
       "      <td>0</td>\n",
       "      <td>26.6</td>\n",
       "      <td>0.351</td>\n",
       "      <td>31</td>\n",
       "      <td>0</td>\n",
       "    </tr>\n",
       "    <tr>\n",
       "      <th>2</th>\n",
       "      <td>8</td>\n",
       "      <td>183</td>\n",
       "      <td>64</td>\n",
       "      <td>0</td>\n",
       "      <td>0</td>\n",
       "      <td>23.3</td>\n",
       "      <td>0.672</td>\n",
       "      <td>32</td>\n",
       "      <td>1</td>\n",
       "    </tr>\n",
       "    <tr>\n",
       "      <th>3</th>\n",
       "      <td>1</td>\n",
       "      <td>89</td>\n",
       "      <td>66</td>\n",
       "      <td>23</td>\n",
       "      <td>94</td>\n",
       "      <td>28.1</td>\n",
       "      <td>0.167</td>\n",
       "      <td>21</td>\n",
       "      <td>0</td>\n",
       "    </tr>\n",
       "    <tr>\n",
       "      <th>4</th>\n",
       "      <td>0</td>\n",
       "      <td>137</td>\n",
       "      <td>40</td>\n",
       "      <td>35</td>\n",
       "      <td>168</td>\n",
       "      <td>43.1</td>\n",
       "      <td>2.288</td>\n",
       "      <td>33</td>\n",
       "      <td>1</td>\n",
       "    </tr>\n",
       "    <tr>\n",
       "      <th>...</th>\n",
       "      <td>...</td>\n",
       "      <td>...</td>\n",
       "      <td>...</td>\n",
       "      <td>...</td>\n",
       "      <td>...</td>\n",
       "      <td>...</td>\n",
       "      <td>...</td>\n",
       "      <td>...</td>\n",
       "      <td>...</td>\n",
       "    </tr>\n",
       "    <tr>\n",
       "      <th>763</th>\n",
       "      <td>10</td>\n",
       "      <td>101</td>\n",
       "      <td>76</td>\n",
       "      <td>48</td>\n",
       "      <td>180</td>\n",
       "      <td>32.9</td>\n",
       "      <td>0.171</td>\n",
       "      <td>63</td>\n",
       "      <td>0</td>\n",
       "    </tr>\n",
       "    <tr>\n",
       "      <th>764</th>\n",
       "      <td>2</td>\n",
       "      <td>122</td>\n",
       "      <td>70</td>\n",
       "      <td>27</td>\n",
       "      <td>0</td>\n",
       "      <td>36.8</td>\n",
       "      <td>0.340</td>\n",
       "      <td>27</td>\n",
       "      <td>0</td>\n",
       "    </tr>\n",
       "    <tr>\n",
       "      <th>765</th>\n",
       "      <td>5</td>\n",
       "      <td>121</td>\n",
       "      <td>72</td>\n",
       "      <td>23</td>\n",
       "      <td>112</td>\n",
       "      <td>26.2</td>\n",
       "      <td>0.245</td>\n",
       "      <td>30</td>\n",
       "      <td>0</td>\n",
       "    </tr>\n",
       "    <tr>\n",
       "      <th>766</th>\n",
       "      <td>1</td>\n",
       "      <td>126</td>\n",
       "      <td>60</td>\n",
       "      <td>0</td>\n",
       "      <td>0</td>\n",
       "      <td>30.1</td>\n",
       "      <td>0.349</td>\n",
       "      <td>47</td>\n",
       "      <td>1</td>\n",
       "    </tr>\n",
       "    <tr>\n",
       "      <th>767</th>\n",
       "      <td>1</td>\n",
       "      <td>93</td>\n",
       "      <td>70</td>\n",
       "      <td>31</td>\n",
       "      <td>0</td>\n",
       "      <td>30.4</td>\n",
       "      <td>0.315</td>\n",
       "      <td>23</td>\n",
       "      <td>0</td>\n",
       "    </tr>\n",
       "  </tbody>\n",
       "</table>\n",
       "<p>768 rows × 9 columns</p>\n",
       "</div>"
      ],
      "text/plain": [
       "    preg plas pres skin test  mass   pedi age class\n",
       "0      6  148   72   35    0  33.6  0.627  50     1\n",
       "1      1   85   66   29    0  26.6  0.351  31     0\n",
       "2      8  183   64    0    0  23.3  0.672  32     1\n",
       "3      1   89   66   23   94  28.1  0.167  21     0\n",
       "4      0  137   40   35  168  43.1  2.288  33     1\n",
       "..   ...  ...  ...  ...  ...   ...    ...  ..   ...\n",
       "763   10  101   76   48  180  32.9  0.171  63     0\n",
       "764    2  122   70   27    0  36.8  0.340  27     0\n",
       "765    5  121   72   23  112  26.2  0.245  30     0\n",
       "766    1  126   60    0    0  30.1  0.349  47     1\n",
       "767    1   93   70   31    0  30.4  0.315  23     0\n",
       "\n",
       "[768 rows x 9 columns]"
      ]
     },
     "execution_count": 6,
     "metadata": {},
     "output_type": "execute_result"
    }
   ],
   "source": [
    "dataset"
   ]
  },
  {
   "cell_type": "code",
   "execution_count": 7,
   "metadata": {},
   "outputs": [],
   "source": [
    "# separando os atributos e a classe do dataset\n",
    "array = dataset.values\n",
    "X = array[:,0:8]\n",
    "Y = array[:,8]\n",
    "\n",
    "# definindo o tamanho do conjunto de teste\n",
    "test_size = 0.20 \n",
    "\n",
    "# A semente (seed) pode ser qualquer número, e garante que os resultados possam ser reproduzidos de forma idêntica toda vez que o script for rodado. \n",
    "# Isto é muito importante quando trabalhamos com modelos ou métodos que utilizam de algum tipo de aleatoriedade.\n",
    "seed = 7\n",
    "\n",
    "# particionando em conjuntos de treino e teste\n",
    "X_train, X_test, Y_train, Y_test = train_test_split(X, Y, test_size=test_size, random_state=seed)"
   ]
  },
  {
   "cell_type": "code",
   "execution_count": 8,
   "metadata": {},
   "outputs": [],
   "source": [
    "# definindo a métrica de avaliação dos algoritmos\n",
    "scoring = 'accuracy'\n",
    "# scoring = 'roc_auc'\n",
    "\n",
    "kfold = KFold(n_splits=10)"
   ]
  },
  {
   "cell_type": "code",
   "execution_count": 9,
   "metadata": {},
   "outputs": [
    {
     "name": "stdout",
     "output_type": "stream",
     "text": [
      "0.7101533580116342\n"
     ]
    }
   ],
   "source": [
    "model = KNeighborsClassifier()\n",
    "results = cross_val_score(model, X_train, Y_train, cv=kfold, scoring=scoring)\n",
    "print(results.mean())"
   ]
  },
  {
   "cell_type": "code",
   "execution_count": 16,
   "metadata": {},
   "outputs": [
    {
     "name": "stdout",
     "output_type": "stream",
     "text": [
      "0.7216552088841882\n"
     ]
    }
   ],
   "source": [
    "# criação de outro modelo alterando o tipo de distância\n",
    "model = KNeighborsClassifier(metric = 'manhattan')\n",
    "# print(model.get_params())\n",
    "results = cross_val_score(model, X_train, Y_train, cv=kfold, scoring=scoring)\n",
    "print(results.mean())"
   ]
  },
  {
   "cell_type": "code",
   "execution_count": 17,
   "metadata": {},
   "outputs": [
    {
     "name": "stdout",
     "output_type": "stream",
     "text": [
      "0.718244315177155\n"
     ]
    }
   ],
   "source": [
    "# criação de outro modelo alterando o valor de k\n",
    "model = KNeighborsClassifier(n_neighbors = 7)\n",
    "# print(model.get_params())\n",
    "results = cross_val_score(model, X_train, Y_train, cv=kfold, scoring=scoring)\n",
    "print(results.mean())"
   ]
  },
  {
   "cell_type": "code",
   "execution_count": 18,
   "metadata": {},
   "outputs": [
    {
     "name": "stdout",
     "output_type": "stream",
     "text": [
      "0.6758593336858805\n"
     ]
    }
   ],
   "source": [
    "model = DecisionTreeClassifier(random_state=7)\n",
    "results = cross_val_score(model, X_train, Y_train, cv=kfold, scoring=scoring)\n",
    "print(results.mean())"
   ]
  },
  {
   "cell_type": "code",
   "execution_count": 20,
   "metadata": {},
   "outputs": [
    {
     "name": "stdout",
     "output_type": "stream",
     "text": [
      "0.7066102591221576\n"
     ]
    }
   ],
   "source": [
    "# criando o modelo já com os parâmetros desejados\n",
    "model = DecisionTreeClassifier(max_depth = None, # profundidade máxima - inteiro ou \"None\" (sem limite). Valores muito altos podem causar overviffing e muito baixos, underfitting.\n",
    "                             criterion = 'entropy',\n",
    "                             random_state=7) # critério de medição de qualidade de um particionamento {“gini”, “entropy”}, default=”gini”.\n",
    "\n",
    "# imprimindo os parâmetros do modelo\n",
    "# print(model.get_params())\n",
    "\n",
    "results = cross_val_score(model, X_train, Y_train, cv=kfold, scoring=scoring)\n",
    "print(results.mean())"
   ]
  },
  {
   "cell_type": "code",
   "execution_count": 21,
   "metadata": {},
   "outputs": [
    {
     "name": "stdout",
     "output_type": "stream",
     "text": [
      "0.7508196721311474\n"
     ]
    }
   ],
   "source": [
    "model = GaussianNB()\n",
    "results = cross_val_score(model, X_train, Y_train, cv=kfold, scoring=scoring)\n",
    "print(results.mean())"
   ]
  },
  {
   "cell_type": "code",
   "execution_count": 22,
   "metadata": {},
   "outputs": [
    {
     "name": "stdout",
     "output_type": "stream",
     "text": [
      "0.656292966684294\n"
     ]
    }
   ],
   "source": [
    "model = SVC(gamma='auto')\n",
    "results = cross_val_score(model, X_train, Y_train, cv=kfold, scoring=scoring)\n",
    "print(results.mean())"
   ]
  },
  {
   "cell_type": "code",
   "execution_count": 23,
   "metadata": {},
   "outputs": [
    {
     "name": "stdout",
     "output_type": "stream",
     "text": [
      "0.7768376520359598\n"
     ]
    }
   ],
   "source": [
    "model = SVC(gamma='auto', kernel = 'linear')\n",
    "results = cross_val_score(model, X_train, Y_train, cv=kfold, scoring=scoring)\n",
    "print(results.mean())"
   ]
  },
  {
   "cell_type": "code",
   "execution_count": 24,
   "metadata": {},
   "outputs": [
    {
     "name": "stdout",
     "output_type": "stream",
     "text": [
      "KNN: 0.710153 (0.064599)\n",
      "CART: 0.687335 (0.052398)\n",
      "NB: 0.750820 (0.050575)\n",
      "SVM: 0.656293 (0.044581)\n",
      "LR: 0.773559 (0.060644)\n"
     ]
    },
    {
     "data": {
      "image/png": "[encoded data removed]",
      "text/plain": [
       "<Figure size 432x288 with 1 Axes>"
      ]
     },
     "metadata": {
      "needs_background": "light"
     },
     "output_type": "display_data"
    }
   ],
   "source": [
    "np.random.seed(7) # definindo uma seed global\n",
    "\n",
    "# preparando os modelos\n",
    "models = []\n",
    "models.append(('KNN', KNeighborsClassifier()))\n",
    "models.append(('CART', DecisionTreeClassifier()))\n",
    "models.append(('NB', GaussianNB()))\n",
    "models.append(('SVM', SVC(gamma='auto')))\n",
    "models.append(('LR', LogisticRegression(max_iter=200)))\n",
    "\n",
    "# avaliando um modelo por vez\n",
    "results = []\n",
    "names = []\n",
    "scoring = 'accuracy'\n",
    "folds = 10\n",
    "\n",
    "for name, model in models:\n",
    "  kfold = KFold(n_splits=folds)\n",
    "  cv_results = cross_val_score(model, X_train, Y_train, cv=kfold, scoring=scoring)\n",
    "  results.append(cv_results)\n",
    "  names.append(name)\n",
    "  msg = \"%s: %f (%f)\" % (name, cv_results.mean(), cv_results.std()) \n",
    "  print(msg)\n",
    "\n",
    "# boxplot de comparação dos algoritmos\n",
    "fig = plt.figure() \n",
    "fig.suptitle('Comparação da Acurácia dos Algoritmos') \n",
    "ax = fig.add_subplot(111) \n",
    "plt.boxplot(results) \n",
    "ax.set_xticklabels(names) \n",
    "plt.show()"
   ]
  },
  {
   "cell_type": "code",
   "execution_count": 26,
   "metadata": {},
   "outputs": [
    {
     "name": "stdout",
     "output_type": "stream",
     "text": [
      "ScaledKNN: 0.718297 (0.071563)\n",
      "ScaledCART: 0.684082 (0.052059)\n",
      "ScaledNB: 0.750820 (0.050575)\n",
      "ScaledSVM: 0.752565 (0.064295)\n",
      "ScaledLR: 0.778424 (0.061895)\n"
     ]
    },
    {
     "data": {
      "image/png": "[encoded data removed]",
      "text/plain": [
       "<Figure size 432x288 with 1 Axes>"
      ]
     },
     "metadata": {
      "needs_background": "light"
     },
     "output_type": "display_data"
    }
   ],
   "source": [
    "np.random.seed(7) # definindo uma seed global\n",
    "\n",
    "# Pipelines para padronização do dataset e aplicação do modelo\n",
    "pipelines = []\n",
    "pipelines.append(('ScaledKNN', Pipeline([('Scaler', StandardScaler()),('KNN', KNeighborsClassifier())])))\n",
    "pipelines.append(('ScaledCART', Pipeline([('Scaler', StandardScaler()),('CART', DecisionTreeClassifier())])))\n",
    "pipelines.append(('ScaledNB', Pipeline([('Scaler', StandardScaler()),('NB', GaussianNB())])))\n",
    "pipelines.append(('ScaledSVM', Pipeline([('Scaler', StandardScaler()),('SVM', SVC(gamma='auto'))])))\n",
    "pipelines.append(('ScaledLR', Pipeline([('Scaler', StandardScaler()),('LR', LogisticRegression(max_iter=200))])))\n",
    "\n",
    "results = []\n",
    "names = []\n",
    "\n",
    "# Aplicação dos pipelines\n",
    "for name, model in pipelines:\n",
    "    kfold = KFold(n_splits=folds)\n",
    "    cv_results = cross_val_score(model, X_train, Y_train, cv=kfold, scoring=scoring)\n",
    "    results.append(cv_results)\n",
    "    names.append(name)\n",
    "    msg = \"%s: %f (%f)\" % (name, cv_results.mean(), cv_results.std())\n",
    "    print(msg)\n",
    "\n",
    "# boxplot de comparação dos algoritmos\n",
    "fig = plt.figure() \n",
    "fig.suptitle('Comparação da Acurácia dos Algoritmos - StandardScaler') \n",
    "ax = fig.add_subplot(111) \n",
    "plt.boxplot(results) \n",
    "ax.set_xticklabels(names) \n",
    "plt.show()"
   ]
  },
  {
   "cell_type": "code",
   "execution_count": 27,
   "metadata": {},
   "outputs": [
    {
     "name": "stdout",
     "output_type": "stream",
     "text": [
      "NormKNN: 0.718271 (0.072688)\n",
      "NormCART: 0.685722 (0.052430)\n",
      "NormNB: 0.750820 (0.050575)\n",
      "NormSVM: 0.758884 (0.054881)\n",
      "NormLR: 0.765362 (0.066363)\n"
     ]
    },
    {
     "data": {
      "image/png": "[encoded data removed]",
      "text/plain": [
       "<Figure size 432x288 with 1 Axes>"
      ]
     },
     "metadata": {
      "needs_background": "light"
     },
     "output_type": "display_data"
    }
   ],
   "source": [
    "np.random.seed(7) # definindo uma seed global\n",
    "\n",
    "# Pipelines para madronização do dataset e aplicação do modelo\n",
    "pipelines = []\n",
    "pipelines.append(('NormKNN', Pipeline([('MinMaxScaler', MinMaxScaler()),('KNN', KNeighborsClassifier())])))\n",
    "pipelines.append(('NormCART', Pipeline([('MinMaxScaler', MinMaxScaler()),('CART', DecisionTreeClassifier())])))\n",
    "pipelines.append(('NormNB', Pipeline([('MinMaxScaler', MinMaxScaler()),('NB', GaussianNB())])))\n",
    "pipelines.append(('NormSVM', Pipeline([('MinMaxScaler', MinMaxScaler()),('SVM', SVC(gamma='auto'))])))\n",
    "pipelines.append(('NormLR', Pipeline([('MinMaxScaler', MinMaxScaler()),('LR', LogisticRegression(max_iter=200))])))\n",
    "\n",
    "\n",
    "results = []\n",
    "names = []\n",
    "\n",
    "# Aplicação dos pipelines\n",
    "for name, model in pipelines:\n",
    "  kfold = KFold(n_splits=folds)\n",
    "  cv_results = cross_val_score(model, X_train, Y_train, cv=kfold, scoring=scoring)\n",
    "  results.append(cv_results)\n",
    "  names.append(name)\n",
    "  msg = \"%s: %f (%f)\" % (name, cv_results.mean(), cv_results.std())\n",
    "  print(msg)\n",
    "\n",
    "# boxplot de comparação dos algoritmos\n",
    "fig = plt.figure() \n",
    "fig.suptitle('Comparação da Acurácia dos Algoritmos - MinMaxScaler') \n",
    "ax = fig.add_subplot(111) \n",
    "plt.boxplot(results) \n",
    "ax.set_xticklabels(names) \n",
    "plt.show()"
   ]
  },
  {
   "cell_type": "code",
   "execution_count": 28,
   "metadata": {},
   "outputs": [
    {
     "name": "stdout",
     "output_type": "stream",
     "text": [
      "Melhor: 0.747329 usando {'metric': 'manhattan', 'n_neighbors': 17}\n",
      "0.702036 (0.075358): {'metric': 'euclidean', 'n_neighbors': 1}\n",
      "0.734611 (0.068286): {'metric': 'euclidean', 'n_neighbors': 3}\n",
      "0.713432 (0.067707): {'metric': 'euclidean', 'n_neighbors': 5}\n",
      "0.731253 (0.069739): {'metric': 'euclidean', 'n_neighbors': 7}\n",
      "0.734506 (0.069032): {'metric': 'euclidean', 'n_neighbors': 9}\n",
      "0.737652 (0.067802): {'metric': 'euclidean', 'n_neighbors': 11}\n",
      "0.734400 (0.074541): {'metric': 'euclidean', 'n_neighbors': 13}\n",
      "0.729376 (0.084487): {'metric': 'euclidean', 'n_neighbors': 15}\n",
      "0.729455 (0.067497): {'metric': 'euclidean', 'n_neighbors': 17}\n",
      "0.726150 (0.072579): {'metric': 'euclidean', 'n_neighbors': 19}\n",
      "0.724484 (0.071632): {'metric': 'euclidean', 'n_neighbors': 21}\n",
      "0.677578 (0.052071): {'metric': 'manhattan', 'n_neighbors': 1}\n",
      "0.693866 (0.060109): {'metric': 'manhattan', 'n_neighbors': 3}\n",
      "0.708408 (0.064635): {'metric': 'manhattan', 'n_neighbors': 5}\n",
      "0.726362 (0.066480): {'metric': 'manhattan', 'n_neighbors': 7}\n",
      "0.716499 (0.074744): {'metric': 'manhattan', 'n_neighbors': 9}\n",
      "0.713273 (0.069346): {'metric': 'manhattan', 'n_neighbors': 11}\n",
      "0.722924 (0.070387): {'metric': 'manhattan', 'n_neighbors': 13}\n",
      "0.732708 (0.068330): {'metric': 'manhattan', 'n_neighbors': 15}\n",
      "0.747329 (0.073953): {'metric': 'manhattan', 'n_neighbors': 17}\n",
      "0.742517 (0.066483): {'metric': 'manhattan', 'n_neighbors': 19}\n",
      "0.737626 (0.067588): {'metric': 'manhattan', 'n_neighbors': 21}\n",
      "0.702036 (0.075358): {'metric': 'minkowski', 'n_neighbors': 1}\n",
      "0.734611 (0.068286): {'metric': 'minkowski', 'n_neighbors': 3}\n",
      "0.713432 (0.067707): {'metric': 'minkowski', 'n_neighbors': 5}\n",
      "0.731253 (0.069739): {'metric': 'minkowski', 'n_neighbors': 7}\n",
      "0.734506 (0.069032): {'metric': 'minkowski', 'n_neighbors': 9}\n",
      "0.737652 (0.067802): {'metric': 'minkowski', 'n_neighbors': 11}\n",
      "0.734400 (0.074541): {'metric': 'minkowski', 'n_neighbors': 13}\n",
      "0.729376 (0.084487): {'metric': 'minkowski', 'n_neighbors': 15}\n",
      "0.729455 (0.067497): {'metric': 'minkowski', 'n_neighbors': 17}\n",
      "0.726150 (0.072579): {'metric': 'minkowski', 'n_neighbors': 19}\n",
      "0.724484 (0.071632): {'metric': 'minkowski', 'n_neighbors': 21}\n"
     ]
    }
   ],
   "source": [
    "# Tuning do KNN\n",
    "\n",
    "# padronização dos dados\n",
    "scaler = StandardScaler().fit(X_train)\n",
    "rescaledX = scaler.transform(X_train)\n",
    "\n",
    "# hiperparâmetros que serão avaliados\n",
    "k = [1,3,5,7,9,11,13,15,17,19,21]\n",
    "distancias = [\"euclidean\", \"manhattan\", \"minkowski\"]\n",
    "param_grid = dict(n_neighbors=k, metric=distancias)\n",
    "\n",
    "# modelo\n",
    "model = KNeighborsClassifier()\n",
    "kfold = KFold(n_splits=10)\n",
    "\n",
    "# busca exaustiva de hiperparâmetros com GridSearchCV\n",
    "grid = GridSearchCV(estimator=model, param_grid=param_grid, scoring=scoring, cv=kfold)\n",
    "grid_result = grid.fit(rescaledX, Y_train)\n",
    "\n",
    "# imprime o melhor resultado\n",
    "print(\"Melhor: %f usando %s\" % (grid_result.best_score_, grid_result.best_params_)) \n",
    "\n",
    "# imprime todos os resultados\n",
    "means = grid_result.cv_results_['mean_test_score']\n",
    "stds = grid_result.cv_results_['std_test_score']\n",
    "params = grid_result.cv_results_['params']\n",
    "for mean, stdev, param in zip(means, stds, params):\n",
    "    print(\"%f (%f): %r\" % (mean, stdev, param))"
   ]
  },
  {
   "cell_type": "code",
   "execution_count": 29,
   "metadata": {},
   "outputs": [
    {
     "name": "stdout",
     "output_type": "stream",
     "text": [
      "Melhor: 0.780090 usando {'C': 0.1, 'kernel': 'linear'}\n",
      "0.780090 (0.055426): {'C': 0.1, 'kernel': 'linear'}\n",
      "0.714860 (0.065600): {'C': 0.1, 'kernel': 'poly'}\n",
      "0.711713 (0.047940): {'C': 0.1, 'kernel': 'rbf'}\n",
      "0.767002 (0.059276): {'C': 0.1, 'kernel': 'sigmoid'}\n",
      "0.780063 (0.060190): {'C': 0.3, 'kernel': 'linear'}\n",
      "0.732893 (0.056653): {'C': 0.3, 'kernel': 'poly'}\n",
      "0.754045 (0.067017): {'C': 0.3, 'kernel': 'rbf'}\n",
      "0.755632 (0.060127): {'C': 0.3, 'kernel': 'sigmoid'}\n",
      "0.778451 (0.061394): {'C': 0.5, 'kernel': 'linear'}\n",
      "0.736118 (0.072612): {'C': 0.5, 'kernel': 'poly'}\n",
      "0.754098 (0.069671): {'C': 0.5, 'kernel': 'rbf'}\n",
      "0.755605 (0.049514): {'C': 0.5, 'kernel': 'sigmoid'}\n",
      "0.778451 (0.061394): {'C': 0.7, 'kernel': 'linear'}\n",
      "0.741036 (0.063252): {'C': 0.7, 'kernel': 'poly'}\n",
      "0.749233 (0.061007): {'C': 0.7, 'kernel': 'rbf'}\n",
      "0.740931 (0.046575): {'C': 0.7, 'kernel': 'sigmoid'}\n",
      "0.778451 (0.061394): {'C': 0.9, 'kernel': 'linear'}\n",
      "0.734558 (0.062042): {'C': 0.9, 'kernel': 'poly'}\n",
      "0.747647 (0.066258): {'C': 0.9, 'kernel': 'rbf'}\n",
      "0.721338 (0.047994): {'C': 0.9, 'kernel': 'sigmoid'}\n",
      "0.778451 (0.061394): {'C': 1.0, 'kernel': 'linear'}\n",
      "0.736224 (0.058719): {'C': 1.0, 'kernel': 'poly'}\n",
      "0.750925 (0.063180): {'C': 1.0, 'kernel': 'rbf'}\n",
      "0.716446 (0.047302): {'C': 1.0, 'kernel': 'sigmoid'}\n",
      "0.778451 (0.061394): {'C': 1.3, 'kernel': 'linear'}\n",
      "0.741116 (0.059938): {'C': 1.3, 'kernel': 'poly'}\n",
      "0.742755 (0.058317): {'C': 1.3, 'kernel': 'rbf'}\n",
      "0.713221 (0.041715): {'C': 1.3, 'kernel': 'sigmoid'}\n",
      "0.778451 (0.061394): {'C': 1.5, 'kernel': 'linear'}\n",
      "0.744342 (0.058636): {'C': 1.5, 'kernel': 'poly'}\n",
      "0.741063 (0.062416): {'C': 1.5, 'kernel': 'rbf'}\n",
      "0.701692 (0.047140): {'C': 1.5, 'kernel': 'sigmoid'}\n",
      "0.778451 (0.061394): {'C': 1.7, 'kernel': 'linear'}\n",
      "0.745981 (0.061697): {'C': 1.7, 'kernel': 'poly'}\n",
      "0.737758 (0.061689): {'C': 1.7, 'kernel': 'rbf'}\n",
      "0.683897 (0.050020): {'C': 1.7, 'kernel': 'sigmoid'}\n",
      "0.776811 (0.060926): {'C': 2.0, 'kernel': 'linear'}\n",
      "0.749180 (0.065297): {'C': 2.0, 'kernel': 'poly'}\n",
      "0.736118 (0.061380): {'C': 2.0, 'kernel': 'rbf'}\n",
      "0.696906 (0.054169): {'C': 2.0, 'kernel': 'sigmoid'}\n"
     ]
    }
   ],
   "source": [
    "# Tuning do SVM\n",
    "\n",
    "# padronização dos dados\n",
    "scaler = StandardScaler().fit(X_train)\n",
    "rescaledX = scaler.transform(X_train)\n",
    "\n",
    "# hiperparâmetros que serão avaliados\n",
    "c_values = [0.1, 0.3, 0.5, 0.7, 0.9, 1.0, 1.3, 1.5, 1.7, 2.0]\n",
    "kernel_values = ['linear', 'poly', 'rbf', 'sigmoid']\n",
    "param_grid = dict(C=c_values, kernel=kernel_values)\n",
    "\n",
    "# modelo\n",
    "model = SVC(gamma='auto')\n",
    "kfold = KFold(n_splits=10)\n",
    "\n",
    "# busca exaustiva de hiperparâmetros com GridSearchCV\n",
    "grid = GridSearchCV(estimator=model, param_grid=param_grid, scoring=scoring, cv=kfold)\n",
    "grid_result = grid.fit(rescaledX, Y_train)\n",
    "\n",
    "# imprime o melhor resultado\n",
    "print(\"Melhor: %f usando %s\" % (grid_result.best_score_, grid_result.best_params_)) \n",
    "\n",
    "# imprime todos os resultados\n",
    "means = grid_result.cv_results_['mean_test_score']\n",
    "stds = grid_result.cv_results_['std_test_score']\n",
    "params = grid_result.cv_results_['params']\n",
    "for mean, stdev, param in zip(means, stds, params):\n",
    "    print(\"%f (%f): %r\" % (mean, stdev, param))"
   ]
  },
  {
   "cell_type": "code",
   "execution_count": 30,
   "metadata": {},
   "outputs": [
    {
     "name": "stdout",
     "output_type": "stream",
     "text": [
      "0.7922077922077922\n",
      "[[91  6]\n",
      " [26 31]]\n",
      "              precision    recall  f1-score   support\n",
      "\n",
      "           0       0.78      0.94      0.85        97\n",
      "           1       0.84      0.54      0.66        57\n",
      "\n",
      "    accuracy                           0.79       154\n",
      "   macro avg       0.81      0.74      0.76       154\n",
      "weighted avg       0.80      0.79      0.78       154\n",
      "\n"
     ]
    }
   ],
   "source": [
    "# https://www.mikulskibartosz.name/how-to-set-the-global-random_state-in-scikit-learn/\n",
    "np.random.seed(7) # definindo uma seed global \n",
    "\n",
    "# padronização os dados de treino\n",
    "scaler = StandardScaler().fit(X_train)\n",
    "rescaledX = scaler.transform(X_train)\n",
    "\n",
    "# criando um modelo com a melhor configuração até o momento\n",
    "model = SVC(C=0.1, kernel='linear')\n",
    "model.fit(rescaledX, Y_train)\n",
    "\n",
    "# padronização dos dados de teste\n",
    "rescaledTestX = scaler.transform(X_test)\n",
    "\n",
    "# predição\n",
    "predictions = model.predict(rescaledTestX)\n",
    "\n",
    "# estimando a acurácia no conjunto de teste\n",
    "print(accuracy_score(Y_test, predictions))\n",
    "print(confusion_matrix(Y_test, predictions))\n",
    "print(classification_report(Y_test, predictions))"
   ]
  }
 ],
 "metadata": {
  "kernelspec": {
   "display_name": "Python 3",
   "language": "python",
   "name": "python3"
  },
  "language_info": {
   "codemirror_mode": {
    "name": "ipython",
    "version": 3
   },
   "file_extension": ".py",
   "mimetype": "text/x-python",
   "name": "python",
   "nbconvert_exporter": "python",
   "pygments_lexer": "ipython3",
   "version": "3.6.8"
  }
 },
 "nbformat": 4,
 "nbformat_minor": 4
}
